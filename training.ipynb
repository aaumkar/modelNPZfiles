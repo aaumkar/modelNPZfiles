{
  "nbformat": 4,
  "nbformat_minor": 0,
  "metadata": {
    "colab": {
      "name": "training.ipynb",
      "provenance": [],
      "collapsed_sections": [],
      "toc_visible": true
    },
    "kernelspec": {
      "display_name": "Python 3",
      "language": "python",
      "name": "python3"
    },
    "language_info": {
      "codemirror_mode": {
        "name": "ipython",
        "version": 3
      },
      "file_extension": ".py",
      "mimetype": "text/x-python",
      "name": "python",
      "nbconvert_exporter": "python",
      "pygments_lexer": "ipython3",
      "version": "3.7.7"
    }
  },
  "cells": [
    {
      "cell_type": "markdown",
      "metadata": {
        "id": "ipwFb7SfNm5B",
        "colab_type": "text"
      },
      "source": [
        "# Statuses\n",
        "\n",
        "|Sr No| Status| Task|\n",
        "|-----|-------|-----|\n",
        "|1| Done|Modularity|\n",
        "|2| Done |Basic Information on code|\n",
        "|3| Done |Add prediction|\n",
        "|4| Urgent| `.npz` working tree|\n",
        "|5|  |Utilization of tfdocs.plots|\n",
        "|6|     |Randomised Prediction|\n",
        "|7|    |Documenting iterations|\n"
      ]
    },
    {
      "cell_type": "markdown",
      "metadata": {
        "id": "cNlDSpvNNm5C",
        "colab_type": "text"
      },
      "source": [
        "# Importing Libraries"
      ]
    },
    {
      "cell_type": "code",
      "metadata": {
        "id": "o9SakU1PnoTd",
        "colab_type": "code",
        "colab": {
          "base_uri": "https://localhost:8080/",
          "height": 102
        },
        "outputId": "7088679a-4f80-47b4-8e4e-065cd6df3e7c"
      },
      "source": [
        "%tensorflow_version 2.1.0"
      ],
      "execution_count": null,
      "outputs": [
        {
          "output_type": "stream",
          "text": [
            "`%tensorflow_version` only switches the major version: 1.x or 2.x.\n",
            "You set: `2.1.0`. This will be interpreted as: `2.x`.\n",
            "\n",
            "\n",
            "TensorFlow is already loaded. Please restart the runtime to change versions.\n"
          ],
          "name": "stdout"
        }
      ]
    },
    {
      "cell_type": "code",
      "metadata": {
        "colab_type": "code",
        "id": "JVzrghQSLuIa",
        "colab": {
          "base_uri": "https://localhost:8080/",
          "height": 34
        },
        "outputId": "a7cb92d4-f189-47c3-ae8c-c5aec178a8d2"
      },
      "source": [
        "import matplotlib.pyplot as plt\n",
        "import numpy as np\n",
        "import pandas as pd\n",
        "import time\n",
        "\n",
        "import tensorflow as tf\n",
        "from tensorflow import keras\n",
        "from keras.callbacks import ModelCheckpoint\n",
        "print(\"TensorFlow version: \"+str(tf.__version__))"
      ],
      "execution_count": null,
      "outputs": [
        {
          "output_type": "stream",
          "text": [
            "TensorFlow version: 2.3.0\n"
          ],
          "name": "stdout"
        }
      ]
    },
    {
      "cell_type": "code",
      "metadata": {
        "id": "B_-oAik4UcJc",
        "colab_type": "code",
        "colab": {}
      },
      "source": [
        "pip install -q pyyaml h5py  # Required to save models in HDF5 format"
      ],
      "execution_count": null,
      "outputs": []
    },
    {
      "cell_type": "code",
      "metadata": {
        "id": "2k_nKe8rO-zY",
        "colab_type": "code",
        "colab": {
          "base_uri": "https://localhost:8080/",
          "height": 34
        },
        "outputId": "1f89bfca-bc04-4188-89ba-c213e8bd98a1"
      },
      "source": [
        "!pip install -q git+https://github.com/tensorflow/docs"
      ],
      "execution_count": null,
      "outputs": [
        {
          "output_type": "stream",
          "text": [
            "  Building wheel for tensorflow-docs (setup.py) ... \u001b[?25l\u001b[?25hdone\n"
          ],
          "name": "stdout"
        }
      ]
    },
    {
      "cell_type": "code",
      "metadata": {
        "id": "tVoDMlmjNm5I",
        "colab_type": "code",
        "colab": {}
      },
      "source": [
        "import tensorflow_docs as tfdocs\n",
        "import tensorflow_docs.modeling\n",
        "# import tensorflow_docs.plots"
      ],
      "execution_count": null,
      "outputs": []
    },
    {
      "cell_type": "markdown",
      "metadata": {
        "id": "gcJ7jNSsNm5L",
        "colab_type": "text"
      },
      "source": [
        "# Loading `.npz` file for training\n",
        "\n",
        "---\n",
        "\n"
      ]
    },
    {
      "cell_type": "code",
      "metadata": {
        "id": "TSv7_M6FE7eW",
        "colab_type": "code",
        "colab": {
          "base_uri": "https://localhost:8080/",
          "height": 54
        },
        "outputId": "15af48c3-b2e1-44f5-c4d1-21ffbed55c16"
      },
      "source": [
        "from google.colab import drive\n",
        "drive.mount('/content/drive')"
      ],
      "execution_count": null,
      "outputs": [
        {
          "output_type": "stream",
          "text": [
            "Drive already mounted at /content/drive; to attempt to forcibly remount, call drive.mount(\"/content/drive\", force_remount=True).\n"
          ],
          "name": "stdout"
        }
      ]
    },
    {
      "cell_type": "code",
      "metadata": {
        "colab_type": "code",
        "id": "cZJjUCBF1vUj",
        "colab": {
          "base_uri": "https://localhost:8080/",
          "height": 51
        },
        "outputId": "f49f878d-5322-4126-ce8a-1ddb69895d69"
      },
      "source": [
        "data = np.load('/content/drive/My Drive/traindata.npz', allow_pickle=True)\n",
        "x = data['x']\n",
        "# print(x)\n",
        "y = data['y']\n",
        "print(\"X: \" + str(x.shape) + \"\\nY: \"+ str(y.shape))"
      ],
      "execution_count": null,
      "outputs": [
        {
          "output_type": "stream",
          "text": [
            "X: (972800, 9)\n",
            "Y: (972800,)\n"
          ],
          "name": "stdout"
        }
      ]
    },
    {
      "cell_type": "markdown",
      "metadata": {
        "id": "wVy3eD2YNm5O",
        "colab_type": "text"
      },
      "source": [
        "The model once threw an error related to the type of numbers, code in next cell has solved the issue"
      ]
    },
    {
      "cell_type": "code",
      "metadata": {
        "colab_type": "code",
        "id": "nPvVu8bP-2kO",
        "colab": {}
      },
      "source": [
        "tf.keras.backend.set_floatx('float64')"
      ],
      "execution_count": null,
      "outputs": []
    },
    {
      "cell_type": "markdown",
      "metadata": {
        "id": "Fr-Its0VNm5R",
        "colab_type": "text"
      },
      "source": [
        "# Model Parameters\n",
        "\n",
        "<div class=\"alert alert-block alert-warning\">\n",
        "<b>Warning:</b> Please verify the Model parameters\n",
        "</div>"
      ]
    },
    {
      "cell_type": "code",
      "metadata": {
        "colab_type": "code",
        "id": "S86Z8EYkLuI0",
        "colab": {}
      },
      "source": [
        "def build_model():\n",
        "    model = keras.Sequential([\n",
        "        keras.layers.Dense(100, activation = 'relu', input_shape = [x.shape[1]]),\n",
        "        keras.layers.Dense(100, activation = 'relu'),\n",
        "        # keras.layers.Dense(750, activation = 'relu'),\n",
        "        # keras.layers.Dense(500, activation = 'relu'),\n",
        "        # keras.layers.Dense(500, activation = 'relu'),\n",
        "        keras.layers.Dense(1, activation= 'sigmoid'),\n",
        "    ])\n",
        "    \n",
        "    optimizer = 'adam'\n",
        "    \n",
        "    model.compile(\n",
        "        loss = 'mse',\n",
        "        optimizer = optimizer,\n",
        "        metrics = [keras.metrics.BinaryAccuracy(name = \"bin-acc\")],\n",
        "    )\n",
        "    \n",
        "    return model"
      ],
      "execution_count": null,
      "outputs": []
    },
    {
      "cell_type": "markdown",
      "metadata": {
        "id": "Ix546ynVNm5T",
        "colab_type": "text"
      },
      "source": [
        "## Building Model and Summary\n",
        "\n",
        "<div class=\"alert alert-block alert-info\">\n",
        "<b>Note</b> Verify Model.</div>"
      ]
    },
    {
      "cell_type": "code",
      "metadata": {
        "colab_type": "code",
        "id": "Z9GB-CDiLuI4",
        "colab": {
          "base_uri": "https://localhost:8080/",
          "height": 255
        },
        "outputId": "bf7a2b50-0241-4416-fcde-762fe71d3d91"
      },
      "source": [
        "model = build_model()\n",
        "model.summary()"
      ],
      "execution_count": null,
      "outputs": [
        {
          "output_type": "stream",
          "text": [
            "Model: \"sequential_9\"\n",
            "_________________________________________________________________\n",
            "Layer (type)                 Output Shape              Param #   \n",
            "=================================================================\n",
            "dense_30 (Dense)             (None, 100)               1000      \n",
            "_________________________________________________________________\n",
            "dense_31 (Dense)             (None, 100)               10100     \n",
            "_________________________________________________________________\n",
            "dense_32 (Dense)             (None, 1)                 101       \n",
            "=================================================================\n",
            "Total params: 11,201\n",
            "Trainable params: 11,201\n",
            "Non-trainable params: 0\n",
            "_________________________________________________________________\n"
          ],
          "name": "stdout"
        }
      ]
    },
    {
      "cell_type": "markdown",
      "metadata": {
        "id": "jK4FJEeQNm5Y",
        "colab_type": "text"
      },
      "source": [
        "### Untrained Prediction "
      ]
    },
    {
      "cell_type": "code",
      "metadata": {
        "id": "WZFAlrkRNm5Z",
        "colab_type": "code",
        "colab": {
          "base_uri": "https://localhost:8080/",
          "height": 285
        },
        "outputId": "16614940-81ac-4f01-a072-1e458a6c502c"
      },
      "source": [
        "example_batch = x[:10,:]\n",
        "# print(example_batch.shape)\n",
        "example_result = model.predict(example_batch)\n",
        "plt.plot(example_result, 'x')"
      ],
      "execution_count": null,
      "outputs": [
        {
          "output_type": "execute_result",
          "data": {
            "text/plain": [
              "[<matplotlib.lines.Line2D at 0x7fe89bcfc438>]"
            ]
          },
          "metadata": {
            "tags": []
          },
          "execution_count": 116
        },
        {
          "output_type": "display_data",
          "data": {
            "image/png": "[encoded data removed]",
            "text/plain": [
              "<Figure size 432x288 with 1 Axes>"
            ]
          },
          "metadata": {
            "tags": [],
            "needs_background": "light"
          }
        }
      ]
    },
    {
      "cell_type": "code",
      "metadata": {
        "id": "wFhefegDLkIZ",
        "colab_type": "code",
        "colab": {}
      },
      "source": [
        "filepath=\"save{epoch:03d}-{bin-acc:.3f}.hdf5\"\n",
        "checkpoint = ModelCheckpoint(filepath, monitor='bin-acc', verbose=1, mode='max')\n",
        "callbacks_list = [checkpoint]"
      ],
      "execution_count": null,
      "outputs": []
    },
    {
      "cell_type": "markdown",
      "metadata": {
        "id": "vGJbMCsZNm5b",
        "colab_type": "text"
      },
      "source": [
        "# Model Fitting\n",
        "\n",
        "<div class=\"alert alert-block alert-danger\">\n",
        "<b>Danger:</b> Resource Intensive Block of Code\n",
        "</div>\n",
        "\n",
        "<div class=\"alert alert-block alert-warning\">\n",
        "<b>HEATING CAUTION:</b> The System heats up during execution of the following code. Make sure there is cooling available.\n",
        "</div>\n",
        "\n",
        "<div class=\"alert alert-block alert-warning\">\n",
        "<b>Warning</b> Following Block of code takes around 30-40 minutes for execution. <br> Proceed with caution. \n",
        "</div>\n",
        "\n",
        "<div class=\"alert alert-block alert-info\">\n",
        "<b>Tip:</b> it is advised to wait untill other important processes on the System are complete</div>\n",
        "\n",
        "<div class=\"alert alert-block alert-info\">\n",
        "<b>Info:</b>Following block of code generates large outputs</div>"
      ]
    },
    {
      "cell_type": "code",
      "metadata": {
        "colab_type": "code",
        "id": "fZjsel1dLuI6",
        "colab": {
          "base_uri": "https://localhost:8080/",
          "height": 731
        },
        "outputId": "c0ed7341-f013-49b5-e01c-297dd1a77afa"
      },
      "source": [
        "%%time\n",
        "history = model.fit(\n",
        "    x,y,\n",
        "    epochs = 10,\n",
        "    validation_split = 0.20,\n",
        "    verbose = 1,\n",
        "    callbacks = callbacks_list\n",
        ")"
      ],
      "execution_count": null,
      "outputs": [
        {
          "output_type": "stream",
          "text": [
            "Epoch 1/10\n",
            "24318/24320 [============================>.] - ETA: 0s - loss: 0.0880 - bin-acc: 0.9012\n",
            "Epoch 00001: saving model to save001-0.901.hdf5\n",
            "24320/24320 [==============================] - 37s 2ms/step - loss: 0.0880 - bin-acc: 0.9012 - val_loss: 0.0853 - val_bin-acc: 0.9032\n",
            "Epoch 2/10\n",
            "24283/24320 [============================>.] - ETA: 0s - loss: 0.0862 - bin-acc: 0.9020\n",
            "Epoch 00002: saving model to save002-0.902.hdf5\n",
            "24320/24320 [==============================] - 41s 2ms/step - loss: 0.0862 - bin-acc: 0.9020 - val_loss: 0.0847 - val_bin-acc: 0.9034\n",
            "Epoch 3/10\n",
            "24312/24320 [============================>.] - ETA: 0s - loss: 0.0857 - bin-acc: 0.9022\n",
            "Epoch 00003: saving model to save003-0.902.hdf5\n",
            "24320/24320 [==============================] - 41s 2ms/step - loss: 0.0857 - bin-acc: 0.9022 - val_loss: 0.0842 - val_bin-acc: 0.9036\n",
            "Epoch 4/10\n",
            "24291/24320 [============================>.] - ETA: 0s - loss: 0.0853 - bin-acc: 0.9024\n",
            "Epoch 00004: saving model to save004-0.902.hdf5\n",
            "24320/24320 [==============================] - 37s 2ms/step - loss: 0.0853 - bin-acc: 0.9024 - val_loss: 0.0839 - val_bin-acc: 0.9038\n",
            "Epoch 5/10\n",
            "24298/24320 [============================>.] - ETA: 0s - loss: 0.0850 - bin-acc: 0.9025\n",
            "Epoch 00005: saving model to save005-0.903.hdf5\n",
            "24320/24320 [==============================] - 37s 2ms/step - loss: 0.0850 - bin-acc: 0.9026 - val_loss: 0.0836 - val_bin-acc: 0.9040\n",
            "Epoch 6/10\n",
            "24298/24320 [============================>.] - ETA: 0s - loss: 0.0847 - bin-acc: 0.9026\n",
            "Epoch 00006: saving model to save006-0.903.hdf5\n",
            "24320/24320 [==============================] - 37s 2ms/step - loss: 0.0847 - bin-acc: 0.9026 - val_loss: 0.0837 - val_bin-acc: 0.9035\n",
            "Epoch 7/10\n",
            "24315/24320 [============================>.] - ETA: 0s - loss: 0.0844 - bin-acc: 0.9027\n",
            "Epoch 00007: saving model to save007-0.903.hdf5\n",
            "24320/24320 [==============================] - 37s 2ms/step - loss: 0.0844 - bin-acc: 0.9027 - val_loss: 0.0830 - val_bin-acc: 0.9039\n",
            "Epoch 8/10\n",
            "24294/24320 [============================>.] - ETA: 0s - loss: 0.0841 - bin-acc: 0.9027\n",
            "Epoch 00008: saving model to save008-0.903.hdf5\n",
            "24320/24320 [==============================] - 37s 2ms/step - loss: 0.0841 - bin-acc: 0.9027 - val_loss: 0.0829 - val_bin-acc: 0.9039\n",
            "Epoch 9/10\n",
            "24303/24320 [============================>.] - ETA: 0s - loss: 0.0838 - bin-acc: 0.9029\n",
            "Epoch 00009: saving model to save009-0.903.hdf5\n",
            "24320/24320 [==============================] - 38s 2ms/step - loss: 0.0839 - bin-acc: 0.9029 - val_loss: 0.0825 - val_bin-acc: 0.9040\n",
            "Epoch 10/10\n",
            "24293/24320 [============================>.] - ETA: 0s - loss: 0.0836 - bin-acc: 0.9029\n",
            "Epoch 00010: saving model to save010-0.903.hdf5\n",
            "24320/24320 [==============================] - 40s 2ms/step - loss: 0.0835 - bin-acc: 0.9029 - val_loss: 0.0825 - val_bin-acc: 0.9041\n",
            "CPU times: user 7min 59s, sys: 37 s, total: 8min 36s\n",
            "Wall time: 6min 22s\n"
          ],
          "name": "stdout"
        }
      ]
    },
    {
      "cell_type": "markdown",
      "metadata": {
        "id": "3szAmVTzNm5e",
        "colab_type": "text"
      },
      "source": [
        "## Training Summary\n",
        "Following block will show last few lines of the training history"
      ]
    },
    {
      "cell_type": "code",
      "metadata": {
        "colab_type": "code",
        "id": "y4GcemJYLuI_",
        "colab": {
          "base_uri": "https://localhost:8080/",
          "height": 204
        },
        "outputId": "4ce02a8e-c35b-4f03-d168-ec4c19bd73d9"
      },
      "source": [
        "hist = pd.DataFrame(history.history)\n",
        "hist['epoch'] = history.epoch\n",
        "# print(hist.head())\n",
        "hist.tail()"
      ],
      "execution_count": null,
      "outputs": [
        {
          "output_type": "execute_result",
          "data": {
            "text/html": [
              "<div>\n",
              "<style scoped>\n",
              "    .dataframe tbody tr th:only-of-type {\n",
              "        vertical-align: middle;\n",
              "    }\n",
              "\n",
              "    .dataframe tbody tr th {\n",
              "        vertical-align: top;\n",
              "    }\n",
              "\n",
              "    .dataframe thead th {\n",
              "        text-align: right;\n",
              "    }\n",
              "</style>\n",
              "<table border=\"1\" class=\"dataframe\">\n",
              "  <thead>\n",
              "    <tr style=\"text-align: right;\">\n",
              "      <th></th>\n",
              "      <th>loss</th>\n",
              "      <th>bin-acc</th>\n",
              "      <th>val_loss</th>\n",
              "      <th>val_bin-acc</th>\n",
              "      <th>epoch</th>\n",
              "    </tr>\n",
              "  </thead>\n",
              "  <tbody>\n",
              "    <tr>\n",
              "      <th>30</th>\n",
              "      <td>0.062548</td>\n",
              "      <td>0.922560</td>\n",
              "      <td>0.051865</td>\n",
              "      <td>0.934868</td>\n",
              "      <td>30</td>\n",
              "    </tr>\n",
              "    <tr>\n",
              "      <th>31</th>\n",
              "      <td>0.059645</td>\n",
              "      <td>0.925893</td>\n",
              "      <td>0.053107</td>\n",
              "      <td>0.934082</td>\n",
              "      <td>31</td>\n",
              "    </tr>\n",
              "    <tr>\n",
              "      <th>32</th>\n",
              "      <td>0.056710</td>\n",
              "      <td>0.929230</td>\n",
              "      <td>0.056235</td>\n",
              "      <td>0.930854</td>\n",
              "      <td>32</td>\n",
              "    </tr>\n",
              "    <tr>\n",
              "      <th>33</th>\n",
              "      <td>0.054683</td>\n",
              "      <td>0.931638</td>\n",
              "      <td>0.042740</td>\n",
              "      <td>0.949275</td>\n",
              "      <td>33</td>\n",
              "    </tr>\n",
              "    <tr>\n",
              "      <th>34</th>\n",
              "      <td>0.052710</td>\n",
              "      <td>0.933851</td>\n",
              "      <td>0.068959</td>\n",
              "      <td>0.917902</td>\n",
              "      <td>34</td>\n",
              "    </tr>\n",
              "  </tbody>\n",
              "</table>\n",
              "</div>"
            ],
            "text/plain": [
              "        loss   bin-acc  val_loss  val_bin-acc  epoch\n",
              "30  0.062548  0.922560  0.051865     0.934868     30\n",
              "31  0.059645  0.925893  0.053107     0.934082     31\n",
              "32  0.056710  0.929230  0.056235     0.930854     32\n",
              "33  0.054683  0.931638  0.042740     0.949275     33\n",
              "34  0.052710  0.933851  0.068959     0.917902     34"
            ]
          },
          "metadata": {
            "tags": []
          },
          "execution_count": 98
        }
      ]
    },
    {
      "cell_type": "markdown",
      "metadata": {
        "id": "YlKo0MY2Nm5g",
        "colab_type": "text"
      },
      "source": [
        "<B>Prediction on training set</B>\n",
        "<br>\n",
        "Example"
      ]
    },
    {
      "cell_type": "code",
      "metadata": {
        "id": "Wz9DPUSVNm5o",
        "colab_type": "code",
        "colab": {}
      },
      "source": [
        "model.save('2__300_e35.h5')"
      ],
      "execution_count": null,
      "outputs": []
    },
    {
      "cell_type": "code",
      "metadata": {
        "id": "5Zs-jronjwtD",
        "colab_type": "code",
        "colab": {}
      },
      "source": [
        "tryhere = keras.models.load_model('weights-improvement-037-0.93501748.hdf5')"
      ],
      "execution_count": null,
      "outputs": []
    },
    {
      "cell_type": "code",
      "metadata": {
        "colab_type": "code",
        "id": "2r1RbMrQ3Me3",
        "colab": {}
      },
      "source": [
        "# result = model.predict(example_batch)\n",
        "# print(\"Output activations:\\n\" + str(result))\n",
        "# print(\"\\nLabelled output: \"+str(np.round(result).T))\n",
        "# result_y = y[:10,]\n",
        "# print(\"\\nLabels from corresponding Training set: \"+str(result_y))"
      ],
      "execution_count": null,
      "outputs": []
    },
    {
      "cell_type": "code",
      "metadata": {
        "id": "2yu5ZcIjT6xJ",
        "colab_type": "code",
        "colab": {}
      },
      "source": [
        "# plt.plot(result, 'x')\n",
        "# plt.title('Prediction on Training set')\n",
        "# plt.show()\n",
        "# print(example_batch[:,1])\n",
        "\n",
        "# plt.plot(result_y, 'x')\n",
        "# plt.title('Labels for corresponding set')\n",
        "# plt.show()"
      ],
      "execution_count": null,
      "outputs": []
    },
    {
      "cell_type": "markdown",
      "metadata": {
        "id": "I4mAVNWqNm5j",
        "colab_type": "text"
      },
      "source": [
        "# Predicting on new data\n",
        "\n",
        "Reading Data from ` .npz` file written by ` \"evaluate file.ipynb\"`"
      ]
    },
    {
      "cell_type": "code",
      "metadata": {
        "id": "N9ZJvOQuNm5j",
        "colab_type": "code",
        "colab": {
          "base_uri": "https://localhost:8080/",
          "height": 34
        },
        "outputId": "52fa38e2-2f3a-4d0b-b80e-e93ddf0eb4b7"
      },
      "source": [
        "pred = np.load('/content/drive/My Drive/chrono_pred.npz')\n",
        "pred_x = pred['x']\n",
        "pred_x.shape"
      ],
      "execution_count": null,
      "outputs": [
        {
          "output_type": "execute_result",
          "data": {
            "text/plain": [
              "(1062912, 9)"
            ]
          },
          "metadata": {
            "tags": []
          },
          "execution_count": 110
        }
      ]
    },
    {
      "cell_type": "markdown",
      "metadata": {
        "id": "La8d7ZlVNm5l",
        "colab_type": "text"
      },
      "source": [
        "### Predicting "
      ]
    },
    {
      "cell_type": "code",
      "metadata": {
        "id": "PkmkozRcNm5m",
        "colab_type": "code",
        "colab": {}
      },
      "source": [
        "pred_new = tryhere.predict(pred_x)"
      ],
      "execution_count": null,
      "outputs": []
    },
    {
      "cell_type": "code",
      "metadata": {
        "id": "PTk5HNLeUo0i",
        "colab_type": "code",
        "colab": {
          "base_uri": "https://localhost:8080/",
          "height": 295
        },
        "outputId": "ddab6d56-b91a-4457-a2ac-48eb9e9991c4"
      },
      "source": [
        "plt.plot(pred_new)"
      ],
      "execution_count": null,
      "outputs": [
        {
          "output_type": "execute_result",
          "data": {
            "text/plain": [
              "[<matplotlib.lines.Line2D at 0x7fe88c2d40f0>]"
            ]
          },
          "metadata": {
            "tags": []
          },
          "execution_count": 122
        },
        {
          "output_type": "display_data",
          "data": {
            "image/png": "[encoded data removed]",
            "text/plain": [
              "<Figure size 432x288 with 1 Axes>"
            ]
          },
          "metadata": {
            "tags": [],
            "needs_background": "light"
          }
        }
      ]
    },
    {
      "cell_type": "code",
      "metadata": {
        "id": "aDofKNUQqb4w",
        "colab_type": "code",
        "colab": {}
      },
      "source": [
        "pred_mo = model.predict(pred_x)"
      ],
      "execution_count": null,
      "outputs": []
    },
    {
      "cell_type": "code",
      "metadata": {
        "id": "2R5BV_1kNBkP",
        "colab_type": "code",
        "colab": {
          "base_uri": "https://localhost:8080/",
          "height": 295
        },
        "outputId": "e8217f76-e8e8-47f0-b010-90abc6c83943"
      },
      "source": [
        "plt.plot(pred_mo,'x')"
      ],
      "execution_count": null,
      "outputs": [
        {
          "output_type": "execute_result",
          "data": {
            "text/plain": [
              "[<matplotlib.lines.Line2D at 0x7fe88ba9ebe0>]"
            ]
          },
          "metadata": {
            "tags": []
          },
          "execution_count": 125
        },
        {
          "output_type": "display_data",
          "data": {
            "image/png": "[encoded data removed]",
            "text/plain": [
              "<Figure size 432x288 with 1 Axes>"
            ]
          },
          "metadata": {
            "tags": [],
            "needs_background": "light"
          }
        }
      ]
    },
    {
      "cell_type": "code",
      "metadata": {
        "id": "3Ku8O9oDNL8Y",
        "colab_type": "code",
        "colab": {}
      },
      "source": [
        ""
      ],
      "execution_count": null,
      "outputs": []
    }
  ]
}